{
 "cells": [
  {
   "cell_type": "code",
   "execution_count": 16,
   "metadata": {},
   "outputs": [
    {
     "name": "stdout",
     "output_type": "stream",
     "text": [
      "Model loaded with weights.\n",
      "\u001b[1m1/1\u001b[0m \u001b[32m━━━━━━━━━━━━━━━━━━━━\u001b[0m\u001b[37m\u001b[0m \u001b[1m3s\u001b[0m 3s/step\n",
      "Atelectasis: 0.0003\n",
      "Cardiomegaly: 0.1847\n",
      "Consolidation: 0.0353\n",
      "Edema: 0.7330\n",
      "Effusion: 0.2041\n",
      "Emphysema: 0.1410\n",
      "Fibrosis: 0.3035\n",
      "Hernia: 0.4768\n",
      "Infiltration: 0.0888\n",
      "Mass: 0.3488\n",
      "Nodule: 0.3715\n",
      "Pleural_Thickening: 0.8193\n",
      "Pneumonia: 0.0036\n",
      "Pneumothorax: 0.1262\n"
     ]
    }
   ],
   "source": [
    "# import numpy as np\n",
    "# from tensorflow.keras.models import load_model\n",
    "# from tensorflow.keras.preprocessing.image import load_img, img_to_array\n",
    "\n",
    "# # Load the model\n",
    "# model = load_model('classification_model12.h5')\n",
    "\n",
    "# # Define your labels\n",
    "# labels = ['Image', 'Atelectasis', 'Cardiomegaly', 'Consolidation', 'Edema',\n",
    "#            'Effusion', 'Emphysema', 'Fibrosis',\n",
    "#            'Hernia', 'Infiltration', 'Mass', 'Nodule',\n",
    "#            'PatientId', 'Pleural_Thickening', 'Pneumonia', 'Pneumothorax']\n",
    "\n",
    "# # Load and preprocess the image\n",
    "# image_path = 'Images\\00000027_000.png'  # Replace with your image file path\n",
    "# img = load_img(image_path, target_size=(224, 224))  # Replace with your model's input size\n",
    "# img_array = img_to_array(img) / 255.0  # Normalize if required\n",
    "# img_array = np.expand_dims(img_array, axis=0)  # Add batch dimension\n",
    "\n",
    "# # Make a prediction\n",
    "# predictions = model.predict(img_array)\n",
    "\n",
    "# # Get the index of the highest probability\n",
    "# predicted_index = np.argmax(predictions, axis=1)[0]\n",
    "\n",
    "# # Get the corresponding label\n",
    "# predicted_label = labels[predicted_index]\n",
    "\n",
    "# # Print the result\n",
    "# print(f\"The model predicts the label: {predicted_label}\")\n",
    "\n",
    "\n",
    "import numpy as np\n",
    "from keras.applications.densenet import preprocess_input\n",
    "from keras.models import Model\n",
    "from keras.layers import Dense, GlobalAveragePooling2D\n",
    "from keras.applications.densenet import DenseNet121\n",
    "from keras.preprocessing.image import load_img, img_to_array\n",
    "\n",
    "# Define the labels\n",
    "labels = ['Atelectasis', 'Cardiomegaly', 'Consolidation', 'Edema',\n",
    "           'Effusion', 'Emphysema', 'Fibrosis',\n",
    "           'Hernia', 'Infiltration', 'Mass', 'Nodule',\n",
    "           'Pleural_Thickening', 'Pneumonia', 'Pneumothorax']\n",
    "\n",
    "# Build the model (must match your trained model's architecture)\n",
    "base_model = DenseNet121(weights=None, include_top=False, input_shape=(224, 224, 3))\n",
    "x = base_model.output\n",
    "x = GlobalAveragePooling2D()(x)\n",
    "predictions = Dense(len(labels), activation=\"sigmoid\")(x)\n",
    "model = Model(inputs=base_model.input, outputs=predictions)\n",
    "\n",
    "# Load the trained weights\n",
    "model.load_weights(\"pretrained_model.h5\")\n",
    "print(\"Model loaded with weights.\")\n",
    "\n",
    "# Load and preprocess the image\n",
    "image_path = 'Images/00000027_000.png'  # Replace with your image file path\n",
    "img = load_img(image_path, target_size=(224, 224))  # Resize to match model input\n",
    "img_array = img_to_array(img)\n",
    "img_array = preprocess_input(img_array)  # Normalize for DenseNet\n",
    "img_array = np.expand_dims(img_array, axis=0)  # Add batch dimension\n",
    "\n",
    "# Make a prediction\n",
    "predictions = model.predict(img_array)\n",
    "\n",
    "# Convert predictions to label probabilities\n",
    "for label, probability in zip(labels, predictions[0]):\n",
    "    print(f\"{label}: {probability:.4f}\")\n"
   ]
  },
  {
   "cell_type": "code",
   "execution_count": 18,
   "metadata": {},
   "outputs": [
    {
     "name": "stdout",
     "output_type": "stream",
     "text": [
      "['bn', 'conv1', 'conv2_block1_0_bn', 'conv2_block1_0_relu', 'conv2_block1_1_bn', 'conv2_block1_1_conv', 'conv2_block1_1_relu', 'conv2_block1_2_conv', 'conv2_block1_concat', 'conv2_block2_0_bn', 'conv2_block2_0_relu', 'conv2_block2_1_bn', 'conv2_block2_1_conv', 'conv2_block2_1_relu', 'conv2_block2_2_conv', 'conv2_block2_concat', 'conv2_block3_0_bn', 'conv2_block3_0_relu', 'conv2_block3_1_bn', 'conv2_block3_1_conv', 'conv2_block3_1_relu', 'conv2_block3_2_conv', 'conv2_block3_concat', 'conv2_block4_0_bn', 'conv2_block4_0_relu', 'conv2_block4_1_bn', 'conv2_block4_1_conv', 'conv2_block4_1_relu', 'conv2_block4_2_conv', 'conv2_block4_concat', 'conv2_block5_0_bn', 'conv2_block5_0_relu', 'conv2_block5_1_bn', 'conv2_block5_1_conv', 'conv2_block5_1_relu', 'conv2_block5_2_conv', 'conv2_block5_concat', 'conv2_block6_0_bn', 'conv2_block6_0_relu', 'conv2_block6_1_bn', 'conv2_block6_1_conv', 'conv2_block6_1_relu', 'conv2_block6_2_conv', 'conv2_block6_concat', 'conv3_block10_0_bn', 'conv3_block10_0_relu', 'conv3_block10_1_bn', 'conv3_block10_1_conv', 'conv3_block10_1_relu', 'conv3_block10_2_conv', 'conv3_block10_concat', 'conv3_block11_0_bn', 'conv3_block11_0_relu', 'conv3_block11_1_bn', 'conv3_block11_1_conv', 'conv3_block11_1_relu', 'conv3_block11_2_conv', 'conv3_block11_concat', 'conv3_block12_0_bn', 'conv3_block12_0_relu', 'conv3_block12_1_bn', 'conv3_block12_1_conv', 'conv3_block12_1_relu', 'conv3_block12_2_conv', 'conv3_block12_concat', 'conv3_block1_0_bn', 'conv3_block1_0_relu', 'conv3_block1_1_bn', 'conv3_block1_1_conv', 'conv3_block1_1_relu', 'conv3_block1_2_conv', 'conv3_block1_concat', 'conv3_block2_0_bn', 'conv3_block2_0_relu', 'conv3_block2_1_bn', 'conv3_block2_1_conv', 'conv3_block2_1_relu', 'conv3_block2_2_conv', 'conv3_block2_concat', 'conv3_block3_0_bn', 'conv3_block3_0_relu', 'conv3_block3_1_bn', 'conv3_block3_1_conv', 'conv3_block3_1_relu', 'conv3_block3_2_conv', 'conv3_block3_concat', 'conv3_block4_0_bn', 'conv3_block4_0_relu', 'conv3_block4_1_bn', 'conv3_block4_1_conv', 'conv3_block4_1_relu', 'conv3_block4_2_conv', 'conv3_block4_concat', 'conv3_block5_0_bn', 'conv3_block5_0_relu', 'conv3_block5_1_bn', 'conv3_block5_1_conv', 'conv3_block5_1_relu', 'conv3_block5_2_conv', 'conv3_block5_concat', 'conv3_block6_0_bn', 'conv3_block6_0_relu', 'conv3_block6_1_bn', 'conv3_block6_1_conv', 'conv3_block6_1_relu', 'conv3_block6_2_conv', 'conv3_block6_concat', 'conv3_block7_0_bn', 'conv3_block7_0_relu', 'conv3_block7_1_bn', 'conv3_block7_1_conv', 'conv3_block7_1_relu', 'conv3_block7_2_conv', 'conv3_block7_concat', 'conv3_block8_0_bn', 'conv3_block8_0_relu', 'conv3_block8_1_bn', 'conv3_block8_1_conv', 'conv3_block8_1_relu', 'conv3_block8_2_conv', 'conv3_block8_concat', 'conv3_block9_0_bn', 'conv3_block9_0_relu', 'conv3_block9_1_bn', 'conv3_block9_1_conv', 'conv3_block9_1_relu', 'conv3_block9_2_conv', 'conv3_block9_concat', 'conv4_block10_0_bn', 'conv4_block10_0_relu', 'conv4_block10_1_bn', 'conv4_block10_1_conv', 'conv4_block10_1_relu', 'conv4_block10_2_conv', 'conv4_block10_concat', 'conv4_block11_0_bn', 'conv4_block11_0_relu', 'conv4_block11_1_bn', 'conv4_block11_1_conv', 'conv4_block11_1_relu', 'conv4_block11_2_conv', 'conv4_block11_concat', 'conv4_block12_0_bn', 'conv4_block12_0_relu', 'conv4_block12_1_bn', 'conv4_block12_1_conv', 'conv4_block12_1_relu', 'conv4_block12_2_conv', 'conv4_block12_concat', 'conv4_block13_0_bn', 'conv4_block13_0_relu', 'conv4_block13_1_bn', 'conv4_block13_1_conv', 'conv4_block13_1_relu', 'conv4_block13_2_conv', 'conv4_block13_concat', 'conv4_block14_0_bn', 'conv4_block14_0_relu', 'conv4_block14_1_bn', 'conv4_block14_1_conv', 'conv4_block14_1_relu', 'conv4_block14_2_conv', 'conv4_block14_concat', 'conv4_block15_0_bn', 'conv4_block15_0_relu', 'conv4_block15_1_bn', 'conv4_block15_1_conv', 'conv4_block15_1_relu', 'conv4_block15_2_conv', 'conv4_block15_concat', 'conv4_block16_0_bn', 'conv4_block16_0_relu', 'conv4_block16_1_bn', 'conv4_block16_1_conv', 'conv4_block16_1_relu', 'conv4_block16_2_conv', 'conv4_block16_concat', 'conv4_block17_0_bn', 'conv4_block17_0_relu', 'conv4_block17_1_bn', 'conv4_block17_1_conv', 'conv4_block17_1_relu', 'conv4_block17_2_conv', 'conv4_block17_concat', 'conv4_block18_0_bn', 'conv4_block18_0_relu', 'conv4_block18_1_bn', 'conv4_block18_1_conv', 'conv4_block18_1_relu', 'conv4_block18_2_conv', 'conv4_block18_concat', 'conv4_block19_0_bn', 'conv4_block19_0_relu', 'conv4_block19_1_bn', 'conv4_block19_1_conv', 'conv4_block19_1_relu', 'conv4_block19_2_conv', 'conv4_block19_concat', 'conv4_block1_0_bn', 'conv4_block1_0_relu', 'conv4_block1_1_bn', 'conv4_block1_1_conv', 'conv4_block1_1_relu', 'conv4_block1_2_conv', 'conv4_block1_concat', 'conv4_block20_0_bn', 'conv4_block20_0_relu', 'conv4_block20_1_bn', 'conv4_block20_1_conv', 'conv4_block20_1_relu', 'conv4_block20_2_conv', 'conv4_block20_concat', 'conv4_block21_0_bn', 'conv4_block21_0_relu', 'conv4_block21_1_bn', 'conv4_block21_1_conv', 'conv4_block21_1_relu', 'conv4_block21_2_conv', 'conv4_block21_concat', 'conv4_block22_0_bn', 'conv4_block22_0_relu', 'conv4_block22_1_bn', 'conv4_block22_1_conv', 'conv4_block22_1_relu', 'conv4_block22_2_conv', 'conv4_block22_concat', 'conv4_block23_0_bn', 'conv4_block23_0_relu', 'conv4_block23_1_bn', 'conv4_block23_1_conv', 'conv4_block23_1_relu', 'conv4_block23_2_conv', 'conv4_block23_concat', 'conv4_block24_0_bn', 'conv4_block24_0_relu', 'conv4_block24_1_bn', 'conv4_block24_1_conv', 'conv4_block24_1_relu', 'conv4_block24_2_conv', 'conv4_block24_concat', 'conv4_block2_0_bn', 'conv4_block2_0_relu', 'conv4_block2_1_bn', 'conv4_block2_1_conv', 'conv4_block2_1_relu', 'conv4_block2_2_conv', 'conv4_block2_concat', 'conv4_block3_0_bn', 'conv4_block3_0_relu', 'conv4_block3_1_bn', 'conv4_block3_1_conv', 'conv4_block3_1_relu', 'conv4_block3_2_conv', 'conv4_block3_concat', 'conv4_block4_0_bn', 'conv4_block4_0_relu', 'conv4_block4_1_bn', 'conv4_block4_1_conv', 'conv4_block4_1_relu', 'conv4_block4_2_conv', 'conv4_block4_concat', 'conv4_block5_0_bn', 'conv4_block5_0_relu', 'conv4_block5_1_bn', 'conv4_block5_1_conv', 'conv4_block5_1_relu', 'conv4_block5_2_conv', 'conv4_block5_concat', 'conv4_block6_0_bn', 'conv4_block6_0_relu', 'conv4_block6_1_bn', 'conv4_block6_1_conv', 'conv4_block6_1_relu', 'conv4_block6_2_conv', 'conv4_block6_concat', 'conv4_block7_0_bn', 'conv4_block7_0_relu', 'conv4_block7_1_bn', 'conv4_block7_1_conv', 'conv4_block7_1_relu', 'conv4_block7_2_conv', 'conv4_block7_concat', 'conv4_block8_0_bn', 'conv4_block8_0_relu', 'conv4_block8_1_bn', 'conv4_block8_1_conv', 'conv4_block8_1_relu', 'conv4_block8_2_conv', 'conv4_block8_concat', 'conv4_block9_0_bn', 'conv4_block9_0_relu', 'conv4_block9_1_bn', 'conv4_block9_1_conv', 'conv4_block9_1_relu', 'conv4_block9_2_conv', 'conv4_block9_concat', 'conv5_block10_0_bn', 'conv5_block10_0_relu', 'conv5_block10_1_bn', 'conv5_block10_1_conv', 'conv5_block10_1_relu', 'conv5_block10_2_conv', 'conv5_block10_concat', 'conv5_block11_0_bn', 'conv5_block11_0_relu', 'conv5_block11_1_bn', 'conv5_block11_1_conv', 'conv5_block11_1_relu', 'conv5_block11_2_conv', 'conv5_block11_concat', 'conv5_block12_0_bn', 'conv5_block12_0_relu', 'conv5_block12_1_bn', 'conv5_block12_1_conv', 'conv5_block12_1_relu', 'conv5_block12_2_conv', 'conv5_block12_concat', 'conv5_block13_0_bn', 'conv5_block13_0_relu', 'conv5_block13_1_bn', 'conv5_block13_1_conv', 'conv5_block13_1_relu', 'conv5_block13_2_conv', 'conv5_block13_concat', 'conv5_block14_0_bn', 'conv5_block14_0_relu', 'conv5_block14_1_bn', 'conv5_block14_1_conv', 'conv5_block14_1_relu', 'conv5_block14_2_conv', 'conv5_block14_concat', 'conv5_block15_0_bn', 'conv5_block15_0_relu', 'conv5_block15_1_bn', 'conv5_block15_1_conv', 'conv5_block15_1_relu', 'conv5_block15_2_conv', 'conv5_block15_concat', 'conv5_block16_0_bn', 'conv5_block16_0_relu', 'conv5_block16_1_bn', 'conv5_block16_1_conv', 'conv5_block16_1_relu', 'conv5_block16_2_conv', 'conv5_block16_concat', 'conv5_block1_0_bn', 'conv5_block1_0_relu', 'conv5_block1_1_bn', 'conv5_block1_1_conv', 'conv5_block1_1_relu', 'conv5_block1_2_conv', 'conv5_block1_concat', 'conv5_block2_0_bn', 'conv5_block2_0_relu', 'conv5_block2_1_bn', 'conv5_block2_1_conv', 'conv5_block2_1_relu', 'conv5_block2_2_conv', 'conv5_block2_concat', 'conv5_block3_0_bn', 'conv5_block3_0_relu', 'conv5_block3_1_bn', 'conv5_block3_1_conv', 'conv5_block3_1_relu', 'conv5_block3_2_conv', 'conv5_block3_concat', 'conv5_block4_0_bn', 'conv5_block4_0_relu', 'conv5_block4_1_bn', 'conv5_block4_1_conv', 'conv5_block4_1_relu', 'conv5_block4_2_conv', 'conv5_block4_concat', 'conv5_block5_0_bn', 'conv5_block5_0_relu', 'conv5_block5_1_bn', 'conv5_block5_1_conv', 'conv5_block5_1_relu', 'conv5_block5_2_conv', 'conv5_block5_concat', 'conv5_block6_0_bn', 'conv5_block6_0_relu', 'conv5_block6_1_bn', 'conv5_block6_1_conv', 'conv5_block6_1_relu', 'conv5_block6_2_conv', 'conv5_block6_concat', 'conv5_block7_0_bn', 'conv5_block7_0_relu', 'conv5_block7_1_bn', 'conv5_block7_1_conv', 'conv5_block7_1_relu', 'conv5_block7_2_conv', 'conv5_block7_concat', 'conv5_block8_0_bn', 'conv5_block8_0_relu', 'conv5_block8_1_bn', 'conv5_block8_1_conv', 'conv5_block8_1_relu', 'conv5_block8_2_conv', 'conv5_block8_concat', 'conv5_block9_0_bn', 'conv5_block9_0_relu', 'conv5_block9_1_bn', 'conv5_block9_1_conv', 'conv5_block9_1_relu', 'conv5_block9_2_conv', 'conv5_block9_concat', 'dense_2', 'global_average_pooling2d_2', 'input_2', 'pool1', 'pool2_bn', 'pool2_conv', 'pool2_pool', 'pool2_relu', 'pool3_bn', 'pool3_conv', 'pool3_pool', 'pool3_relu', 'pool4_bn', 'pool4_conv', 'pool4_pool', 'pool4_relu', 'relu', 'zero_padding2d_3', 'zero_padding2d_4']\n"
     ]
    }
   ],
   "source": [
    "import h5py\n",
    "\n",
    "with h5py.File('pretrained_model.h5', 'r') as f:\n",
    "    print(list(f.keys()))  # Show top-level keys in the file\n"
   ]
  },
  {
   "cell_type": "code",
   "execution_count": null,
   "metadata": {},
   "outputs": [],
   "source": []
  }
 ],
 "metadata": {
  "kernelspec": {
   "display_name": "Python 3",
   "language": "python",
   "name": "python3"
  },
  "language_info": {
   "codemirror_mode": {
    "name": "ipython",
    "version": 3
   },
   "file_extension": ".py",
   "mimetype": "text/x-python",
   "name": "python",
   "nbconvert_exporter": "python",
   "pygments_lexer": "ipython3",
   "version": "3.11.0"
  }
 },
 "nbformat": 4,
 "nbformat_minor": 2
}
